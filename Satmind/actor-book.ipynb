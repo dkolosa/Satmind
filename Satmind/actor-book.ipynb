{
 "cells": [
  {
   "cell_type": "code",
   "execution_count": 1,
   "metadata": {},
   "outputs": [],
   "source": [
    "from env_orekit import OrekitEnv\n",
    "import tensorflow as tf\n",
    "import numpy as np\n",
    "import matplotlib.pyplot as plt"
   ]
  },
  {
   "cell_type": "code",
   "execution_count": 2,
   "metadata": {},
   "outputs": [],
   "source": [
    "from actor_critic import Actor, Critic"
   ]
  },
  {
   "cell_type": "code",
   "execution_count": 3,
   "metadata": {},
   "outputs": [],
   "source": [
    "env = OrekitEnv()\n",
    "\n",
    "year, month, day, hr, minute, sec = 2018, 8, 1, 9, 30, 00.00\n",
    "date = [year, month, day, hr, minute, sec]\n",
    "env.set_date(date)\n",
    "\n",
    "mass = 1000.0\n",
    "fuel_mass = 500.0\n",
    "duration = 2 * 24.0 * 60.0 ** 2\n",
    "\n",
    "#initial state\n",
    "sma = 40_000.0e3\n",
    "e = 0.001\n",
    "i = 0.0\n",
    "omega = 0.1\n",
    "rann = 0.01\n",
    "lv = 0.01\n",
    "state = [sma, e, i, omega, rann, lv]\n",
    "    \n",
    "# target state\n",
    "a_targ = 45_000_000.0\n",
    "e_targ = e\n",
    "i_targ = i\n",
    "omega_targ = omega\n",
    "raan_targ = rann\n",
    "lM_targ = lv\n",
    "state_targ = [a_targ, e_targ, i_targ, omega_targ, raan_targ, lM_targ]\n",
    "\n",
    "env.create_orbit(state, env._initial_date, target=False)    \n",
    "env.set_spacecraft(mass, fuel_mass)\n",
    "env.create_Propagator()\n",
    "env.setForceModel()\n",
    "\n",
    "final_date = env._initial_date.shiftedBy(duration)"
   ]
  },
  {
   "cell_type": "code",
   "execution_count": 4,
   "metadata": {},
   "outputs": [],
   "source": [
    "env.create_orbit(state_targ, final_date, target=True)\n",
    "env._extrap_Date = env._initial_date\n",
    "stepT = 100.0\n",
    "thrust_values = [0.0, 0.25, 0.50, 0.75, 1.0]"
   ]
  },
  {
   "cell_type": "code",
   "execution_count": 5,
   "metadata": {},
   "outputs": [],
   "source": [
    "# learning parameters\n",
    "y = .95\n",
    "e = 0.10\n",
    "num_episodes = 100\n",
    "\n",
    "# steps and rewards per episode (respectively)\n",
    "j_list = []\n",
    "r_list = []\n",
    "\n",
    "# Network Model\n",
    "num_inputs = 2\n",
    "num_outputs = 5\n",
    "layer_1_nodes = 128"
   ]
  },
  {
   "cell_type": "code",
   "execution_count": 6,
   "metadata": {},
   "outputs": [],
   "source": [
    "# Create the actor and critic\n",
    "actor = Actor(num_inputs,num_outputs, layer_1_nodes)\n",
    "critic = Critic(num_inputs, layer_1_nodes, y)"
   ]
  },
  {
   "cell_type": "code",
   "execution_count": null,
   "metadata": {},
   "outputs": [],
   "source": [
    "with tf.Session() as sess:\n",
    "    sess.run(tf.global_variables_initializer())\n",
    "\n",
    "    for i in range(num_episodes):\n",
    "\n",
    "        s = env.reset()\n",
    "\n",
    "        rall=0\n",
    "        r=0\n",
    "        d=False\n",
    "        j=0\n",
    "        reward = []\n",
    "\n",
    "        while j < 5000:\n",
    "\n",
    "            a = actor.choose_action(s, sess)\n",
    "\n",
    "            s1, r, done, _ = env.step(a, stepT)\n",
    "\n",
    "            reward.append(r)\n",
    "\n",
    "            # Train the critic and actor\n",
    "            td_error = critic.train(s, r, s1, sess)\n",
    "            exp_v = actor.train(s, a, td_error, sess)\n",
    "\n",
    "            s = s1\n",
    "\n",
    "            j+=1\n",
    "\n",
    "            if done:\n",
    "                reward_sun = sum(reward)\n",
    "\n",
    "            print('episode: ', i, \"reward: \", r)"
   ]
  }
 ],
 "metadata": {
  "kernelspec": {
   "display_name": "Python 3",
   "language": "python",
   "name": "python3"
  },
  "language_info": {
   "codemirror_mode": {
    "name": "ipython",
    "version": 3
   },
   "file_extension": ".py",
   "mimetype": "text/x-python",
   "name": "python",
   "nbconvert_exporter": "python",
   "pygments_lexer": "ipython3",
   "version": "3.6.8"
  }
 },
 "nbformat": 4,
 "nbformat_minor": 2
}
