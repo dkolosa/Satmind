{
 "cells": [
  {
   "cell_type": "code",
   "execution_count": 1,
   "metadata": {},
   "outputs": [],
   "source": [
    "# Start orekit\n",
    "import orekit\n",
    "from math import radians, degrees\n",
    "import matplotlib.pyplot as plt\n",
    "orekit.initVM()\n",
    "\n",
    "from orekit.pyhelpers import setup_orekit_curdir\n",
    "setup_orekit_curdir()"
   ]
  },
  {
   "cell_type": "code",
   "execution_count": 4,
   "metadata": {},
   "outputs": [],
   "source": [
    "# import necessary libraries\n",
    "from org.orekit.frames import FramesFactory\n",
    "from org.orekit.orbits import KeplerianOrbit\n",
    "from org.orekit.orbits import PositionAngle\n",
    "from org.orekit.propagation import SpacecraftState\n",
    "from org.orekit.propagation.analytical import KeplerianPropagator\n",
    "from org.orekit.time import AbsoluteDate\n",
    "from org.orekit.time import TimeScalesFactory\n",
    "\n",
    "# import the numerial propagator libraries\n",
    "from org.orekit.propagation.numerical import NumericalPropagator\n",
    "from org.hipparchus.ode.nonstiff import DormandPrince853Integrator\n",
    "from org.orekit.orbits import OrbitType\n",
    "from org.orekit.forces.gravity.potential import GravityFieldFactory\n",
    "from org.orekit.forces.gravity import HolmesFeatherstoneAttractionModel\n",
    "from org.orekit.forces.gravity import ThirdBodyAttraction\n",
    "from org.orekit.utils import IERSConventions\n",
    "\n",
    "from org.orekit.forces.radiation import SolarRadiationPressure\n",
    "from org.orekit.forces.radiation import IsotropicRadiationSingleCoefficient\n",
    "\n",
    "from org.orekit.bodies import CelestialBodyFactory\n",
    "\n",
    "from org.orekit.propagation.sampling import OrekitFixedStepHandler\n",
    "from org.orekit.python import PythonOrekitFixedStepHandler\n",
    "\n"
   ]
  },
  {
   "cell_type": "code",
   "execution_count": 18,
   "metadata": {},
   "outputs": [],
   "source": [
    "from org.orekit.attitudes import AttitudeProvider;\n",
    "from org.orekit.attitudes import AttitudesSequence;\n",
    "from org.orekit.attitudes import LofOffset;\n",
    "from org.orekit.bodies import CelestialBodyFactory;\n",
    "from org.orekit.errors import OrekitException;\n",
    "from org.orekit.frames import FramesFactory;\n",
    "from org.orekit.frames import LOFType;\n",
    "from org.orekit.orbits import KeplerianOrbit;\n",
    "from org.orekit.orbits import Orbit;\n",
    "from org.orekit.propagation import Propagator;\n",
    "from org.orekit.propagation import SpacecraftState;\n",
    "from org.orekit.propagation.analytical import EcksteinHechlerPropagator;\n",
    "from org.orekit.propagation.events import EclipseDetector;\n",
    "from org.orekit.propagation.events import EventDetector;\n",
    "from org.orekit.propagation.events.handlers import EventHandler;\n",
    "from org.orekit.propagation.sampling import OrekitFixedStepHandler;\n",
    "from org.orekit.time import AbsoluteDate;\n",
    "from org.orekit.time import TimeScalesFactory;\n",
    "from org.orekit.utils import Constants;\n",
    "from org.orekit.utils import PVCoordinates;\n",
    "from org.orekit.utils import PVCoordinatesProvider;"
   ]
  },
  {
   "cell_type": "code",
   "execution_count": 5,
   "metadata": {},
   "outputs": [],
   "source": [
    "# Set the initial State of the spacecraft\n",
    "a = 24396159.0    # semi major axis (m)\n",
    "e = 0.720  # eccentricity\n",
    "i = radians(10.0) # inclination\n",
    "omega = radians(50.0) # perigee argument\n",
    "raan = radians(150.0) #right ascension of ascending node\n",
    "lM = 0.0 # mean anomaly\n",
    "\n",
    "# Set inertial frame\n",
    "inertialFrame = FramesFactory.getEME2000()\n",
    "\n",
    "# Initial date in UTC time scale\n",
    "utc = TimeScalesFactory.getUTC()\n",
    "initialDate = AbsoluteDate(2016, 1, 1, 5, 30, 00.00, utc)  # year, month, day, hours,mintues, seconds\n",
    "\n",
    "# Setup orbit propagator\n",
    "#gravitation coefficient\n",
    "mu = 3.986004415e+14\n",
    "\n",
    "# Orbit construction as Keplerian\n",
    "initialOrbit = KeplerianOrbit(a, e, i, omega, raan, lM,\n",
    "                              PositionAngle.MEAN, inertialFrame,\n",
    "                              initialDate, mu)\n",
    "\n",
    "initialstate = SpacecraftState(initialOrbit)"
   ]
  },
  {
   "cell_type": "code",
   "execution_count": 6,
   "metadata": {},
   "outputs": [],
   "source": [
    "def simple_keplarian(initialOrbit, initialDate):\n",
    "    \"\"\"\n",
    "    :param initialOrbit: initial Keplarian orbit and central body\n",
    "    :param initialDate: intial start date\n",
    "    :return: plot xy orbit\n",
    "    \"\"\"\n",
    "\n",
    "    # Simple extrapolation with Keplerian motion\n",
    "    kepler = KeplerianPropagator(initialOrbit)\n",
    "    # Set the propagator to slave mode (could be omitted as it is the default mode)\n",
    "    kepler.setSlaveMode()\n",
    "    # Setup propagation time\n",
    "    # Overall duration in seconds for extrapolation\n",
    "    duration = 24 * 60.0 ** 2\n",
    "    # Stop date\n",
    "    finalDate = AbsoluteDate(initialDate, duration, utc)\n",
    "    # Step duration in seconds\n",
    "    stepT = 30.0\n",
    "    # Perform propagation\n",
    "    # Extrapolation loop\n",
    "    cpt = 1.0\n",
    "    extrapDate = initialDate\n",
    "    px, py = [], []\n",
    "    while extrapDate.compareTo(finalDate) <= 0:\n",
    "        currentState = kepler.propagate(extrapDate)\n",
    "        print('step {}: time {} {}\\n'.format(cpt, currentState.getDate(), currentState.getOrbit()))\n",
    "        coord = currentState.getPVCoordinates().getPosition()\n",
    "        px.append(coord.getX())\n",
    "        py.append(coord.getY())\n",
    "        # P[:,cpt]=[coord.getX coord.getY coord.getZ]\n",
    "        extrapDate = AbsoluteDate(extrapDate, stepT, utc)\n",
    "        cpt += 1\n",
    "    plt.plot(px, py)\n",
    "    plt.show()"
   ]
  },
  {
   "cell_type": "code",
   "execution_count": 7,
   "metadata": {},
   "outputs": [
    {
     "data": {
      "text/plain": [
       "<AbsoluteDate: 2016-01-01T05:46:40.000>"
      ]
     },
     "execution_count": 7,
     "metadata": {},
     "output_type": "execute_result"
    }
   ],
   "source": [
    "initialDate.shiftedBy(1000.0)"
   ]
  },
  {
   "cell_type": "code",
   "execution_count": 11,
   "metadata": {},
   "outputs": [],
   "source": [
    "# use a numerical propogator and integrator\n",
    "min_step = 0.001\n",
    "max_step = 1000.0\n",
    "position_tolerance = 10.0\n",
    "\n",
    "propagation_type = OrbitType.KEPLERIAN\n",
    "tolerances = NumericalPropagator.tolerances(position_tolerance, initialOrbit,\n",
    "                                            propagation_type)\n",
    "\n",
    "integrator = DormandPrince853Integrator(min_step, max_step, 1e-4, 1e-5)\n",
    "\n",
    "propagator = NumericalPropagator(integrator)\n",
    "propagator.setOrbitType(propagation_type)"
   ]
  },
  {
   "cell_type": "code",
   "execution_count": 38,
   "metadata": {},
   "outputs": [],
   "source": [
    "class TutorialStepHandler(PythonOrekitFixedStepHandler):\n",
    "\n",
    "    def init(self,s0, t):\n",
    "        print('Orbial Elements')\n",
    "    \n",
    "    def handleStep(self, currentState, isLast):\n",
    "        print('Step handler')\n",
    "        o = OrbitType.KEPLERIAN.convertType(currentState.getOrbit())\n",
    "        print({12}o.getA(),\" \", o.getE())\n",
    "#         print(\"%s %:12.3f %:10.8f %:106f %:10.6f %:10.6f %:10.6f\".format(currentState.getDate(), o.getA(), o.getE(),\n",
    "#                                                                       o.getI(),o.getPerigeeArgument(),\n",
    "#                                                                       o.getRightAscensionOfAscendingNode(),\n",
    "#                                                                       o.getTrueAnomaly()))\n",
    "        if isLast:\n",
    "            print('this was the last step ')"
   ]
  },
  {
   "cell_type": "code",
   "execution_count": 31,
   "metadata": {},
   "outputs": [],
   "source": [
    "# force model gravity field\n",
    "provider = GravityFieldFactory.getNormalizedProvider(10, 10)\n",
    "holmesFeatherstone = HolmesFeatherstoneAttractionModel(FramesFactory.getITRF(IERSConventions.IERS_2010, True), provider)\n",
    "\n",
    "# Add Earth, Moon, and Sun body gravity field\n",
    "propagator.addForceModel(holmesFeatherstone)\n",
    "propagator.addForceModel(ThirdBodyAttraction(CelestialBodyFactory.getSun()))\n",
    "propagator.addForceModel(ThirdBodyAttraction(CelestialBodyFactory.getMoon()))\n",
    "\n",
    "# SRP\n",
    "ssc = IsotropicRadiationSingleCoefficient(100.0, 0.8)   # Spacecraft surface area (m^2), C_r absorbtion \n",
    "spr = SolarRadiationPressure(CelestialBodyFactory.getSun(), a, ssc)   # sun, semi-major Earth, spacecraft sensitivity\n",
    "\n",
    "# propagator.addForceModel(spr)\n"
   ]
  },
  {
   "cell_type": "code",
   "execution_count": 39,
   "metadata": {},
   "outputs": [
    {
     "name": "stdout",
     "output_type": "stream",
     "text": [
      "Orbial Elements\n",
      "Step handler\n",
      "(24396159.0, ' ', 0.72)\n",
      "Step handler\n",
      "(24390504.757832676, ' ', 0.7199309497827369)\n",
      "Step handler\n",
      "(24381624.19889462, ' ', 0.7198168503962477)\n",
      "Step handler\n",
      "(24369904.716292698, ' ', 0.7196628043630096)\n",
      "Step handler\n",
      "(24355777.994995534, ' ', 0.7194746878135146)\n",
      "Step handler\n",
      "(24339759.138516493, ' ', 0.7192595436251775)\n",
      "Step handler\n",
      "(24322434.795298148, ' ', 0.7190253466503255)\n",
      "Step handler\n",
      "(24304409.32724594, ' ', 0.7187802707239856)\n",
      "Step handler\n",
      "(24286227.908840045, ' ', 0.7185317045904628)\n",
      "Step handler\n",
      "(24268332.856684666, ' ', 0.7182856919149149)\n",
      "Step handler\n",
      "(24251047.68171857, ' ', 0.7180467265938667)\n",
      "Step handler\n",
      "(24234584.87501531, ' ', 0.7178178503748684)\n",
      "Step handler\n",
      "(24219067.330819868, ' ', 0.7176009224981847)\n",
      "Step handler\n",
      "(24204549.812173825, ' ', 0.7173968919868888)\n",
      "Step handler\n",
      "(24191039.15021064, ' ', 0.7172060551402968)\n",
      "Step handler\n",
      "(24178511.546767455, ' ', 0.7170282773985677)\n",
      "Step handler\n",
      "(24166925.34995957, ' ', 0.7168631587462879)\n",
      "this was the last step \n",
      "Final State: date: 2016-01-01T05:46:40.000\n",
      "a: 24159698.5433 \n",
      "e: 0.716759834205 \n",
      "i:9.99129361775 \n",
      "theta 267.852012237\n",
      "done\n"
     ]
    }
   ],
   "source": [
    "handler = mystephandler()\n",
    "propagator.setMasterMode(60.0, TutorialStepHandler())\n",
    "\n",
    "propagator.setInitialState(initialstate)\n",
    "\n",
    "finalState = propagator.propagate(initialDate.shiftedBy(1000.0))    # TIme shift in seconds\n",
    "\n",
    "o = OrbitType.KEPLERIAN.convertType(finalState.getOrbit())\n",
    "\n",
    "print('Final State: date: {}\\na: {} \\ne: {} \\ni:{} \\ntheta {}'.format(\n",
    "       finalState.getDate(), o.getA(), o.getE(), degrees(o.getI()), degrees(o.getLv())))\n",
    "\n",
    "print(\"done\")"
   ]
  },
  {
   "cell_type": "code",
   "execution_count": 9,
   "metadata": {},
   "outputs": [
    {
     "data": {
      "image/png": "[encoded data removed]",
      "text/plain": [
       "<matplotlib.figure.Figure at 0x7f2715b92b00>"
      ]
     },
     "metadata": {},
     "output_type": "display_data"
    }
   ],
   "source": [
    "duration = 24 * 60.0 ** 2\n",
    "# Stop date\n",
    "finalDate = AbsoluteDate(initialDate, duration, utc)\n",
    "# Step duration in seconds\n",
    "stepT = 30.0\n",
    "# Perform propagation\n",
    "# Extrapolation loop\n",
    "cpt = 1.0\n",
    "px = []\n",
    "py = []\n",
    "extrapDate = initialDate\n",
    "while extrapDate.compareTo(finalDate) <= 0:\n",
    "    currentState = propagator.propagate(extrapDate)\n",
    "    # print('step {}: time {} {}\\n'.format(cpt, currentState.getDate(), currentState.getOrbit()))\n",
    "    coord = currentState.getPVCoordinates().getPosition()\n",
    "    px.append(coord.getX())\n",
    "    py.append(coord.getY())\n",
    "    # P[:,cpt]=[coord.getX coord.getY coord.getZ]\n",
    "    extrapDate = AbsoluteDate(extrapDate, stepT, utc)\n",
    "    \n",
    "plt.plot(px,py)\n",
    "plt.show()"
   ]
  },
  {
   "cell_type": "code",
   "execution_count": 8,
   "metadata": {},
   "outputs": [],
   "source": []
  },
  {
   "cell_type": "code",
   "execution_count": null,
   "metadata": {},
   "outputs": [],
   "source": []
  }
 ],
 "metadata": {
  "kernelspec": {
   "display_name": "Python 3",
   "language": "python",
   "name": "python3"
  },
  "language_info": {
   "codemirror_mode": {
    "name": "ipython",
    "version": 3
   },
   "file_extension": ".py",
   "mimetype": "text/x-python",
   "name": "python",
   "nbconvert_exporter": "python",
   "pygments_lexer": "ipython3",
   "version": "3.6.6"
  }
 },
 "nbformat": 4,
 "nbformat_minor": 1
}
