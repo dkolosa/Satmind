{
 "cells": [
  {
   "cell_type": "code",
   "execution_count": 1,
   "metadata": {},
   "outputs": [],
   "source": [
    "from env_orekit import OrekitEnv\n",
    "import numpy as np\n",
    "from math import radians\n",
    "import matplotlib.pyplot as plt"
   ]
  },
  {
   "cell_type": "code",
   "execution_count": 2,
   "metadata": {},
   "outputs": [],
   "source": [
    "env = OrekitEnv()"
   ]
  },
  {
   "cell_type": "code",
   "execution_count": 3,
   "metadata": {},
   "outputs": [],
   "source": [
    "year, month, day, hr, minute, sec = 2018, 8, 1, 9, 30, 00.00\n",
    "date = [year, month, day, hr, minute, sec]\n",
    "env.set_date(date)"
   ]
  },
  {
   "cell_type": "code",
   "execution_count": 4,
   "metadata": {},
   "outputs": [],
   "source": [
    "mass = 1000.0\n",
    "fuel_mass = 500.0\n",
    "duration = 24.0*60.0**2*10"
   ]
  },
  {
   "cell_type": "code",
   "execution_count": 5,
   "metadata": {},
   "outputs": [],
   "source": [
    "# set the sc initial state\n",
    "a = 5_500.0e3  # semi major axis (m)\n",
    "e = 0.00001  # eccentricity\n",
    "i = radians(0.001)  # inclination\n",
    "omega = radians(0.001)  # perigee argument\n",
    "raan = radians(0.001)  # right ascension of ascending node\n",
    "lM = 0.0  # mean anomaly\n",
    "state = [a, e, i, omega, raan, lM]\n",
    "\n",
    "# target state\n",
    "a_targ = 10_000.0e3\n",
    "e_targ = e\n",
    "i_targ = i\n",
    "omega_targ = omega\n",
    "raan_targ = raan\n",
    "lM_targ = lM\n",
    "state_targ = [a_targ, e_targ, i_targ, omega_targ, raan_targ, lM_targ]\n",
    "env.create_orbit(state, env._initial_date, target=False)"
   ]
  },
  {
   "cell_type": "code",
   "execution_count": 6,
   "metadata": {},
   "outputs": [],
   "source": [
    "env.set_spacecraft(mass, fuel_mass)\n",
    "env.create_Propagator()\n",
    "env.setForceModel()"
   ]
  },
  {
   "cell_type": "code",
   "execution_count": 7,
   "metadata": {},
   "outputs": [],
   "source": [
    "final_date = env._initial_date.shiftedBy(duration)\n",
    "env.create_orbit(state_targ, final_date, target=True)\n",
    "env._extrap_Date = env._initial_date\n",
    "stepT = 1000.0\n",
    "thrust_mag = 1.0\n",
    "isp = 1200.0\n",
    "a, lv = [], []"
   ]
  },
  {
   "cell_type": "code",
   "execution_count": null,
   "metadata": {},
   "outputs": [],
   "source": [
    "# Thrust representation\n",
    "time = np."
   ]
  },
  {
   "cell_type": "code",
   "execution_count": null,
   "metadata": {},
   "outputs": [],
   "source": [
    "while env._extrap_Date.compareTo(final_date) <= 0:\n",
    "# while env._currentOrbit.getA() <= a_targ:\n",
    "    position, r, done, _ = env.step(thrust_mag, stepT)\n",
    "    a.append(position[0])\n",
    "    lv.append(position[2])\n",
    "#     print(position)\n",
    "# print(\"done\")\n"
   ]
  },
  {
   "cell_type": "code",
   "execution_count": null,
   "metadata": {},
   "outputs": [],
   "source": [
    "a_final = env._currentOrbit.getA()\n",
    "# print('orbit:{} km'.format(a_final/1e3))\n",
    "# print('da:{} km'.format((a_final - a)/1e3))\n",
    "plt.subplot(2,1,1)\n",
    "plt.plot(a)\n",
    "plt.subplot(2,1,2)\n",
    "plt.plot(lv)\n",
    "plt.show()\n",
    "# print(lv)"
   ]
  },
  {
   "cell_type": "code",
   "execution_count": null,
   "metadata": {},
   "outputs": [],
   "source": [
    "env.render_plots()"
   ]
  },
  {
   "cell_type": "code",
   "execution_count": null,
   "metadata": {},
   "outputs": [],
   "source": []
  }
 ],
 "metadata": {
  "kernelspec": {
   "display_name": "Python 3",
   "language": "python",
   "name": "python3"
  },
  "language_info": {
   "codemirror_mode": {
    "name": "ipython",
    "version": 3
   },
   "file_extension": ".py",
   "mimetype": "text/x-python",
   "name": "python",
   "nbconvert_exporter": "python",
   "pygments_lexer": "ipython3",
   "version": "3.6.6"
  }
 },
 "nbformat": 4,
 "nbformat_minor": 2
}
